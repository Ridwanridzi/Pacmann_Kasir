{
  "nbformat": 4,
  "nbformat_minor": 0,
  "metadata": {
    "colab": {
      "provenance": []
    },
    "kernelspec": {
      "name": "python3",
      "display_name": "Python 3"
    },
    "language_info": {
      "name": "python"
    }
  },
  "cells": [
    {
      "cell_type": "code",
      "execution_count": 1,
      "metadata": {
        "id": "1HEtyXoxk41h"
      },
      "outputs": [],
      "source": [
        "from projek_kasir_modul import Transaction"
      ]
    },
    {
      "cell_type": "markdown",
      "source": [
        "# Dokumentasi"
      ],
      "metadata": {
        "id": "2VWq2aEHf7y1"
      }
    },
    {
      "cell_type": "markdown",
      "source": [
        "# Main"
      ],
      "metadata": {
        "id": "uEfWUUnhf9oj"
      }
    },
    {
      "cell_type": "code",
      "source": [
        "transaksi = Transaction()\n",
        "transaksi.menu()"
      ],
      "metadata": {
        "colab": {
          "base_uri": "https://localhost:8080/"
        },
        "id": "bn-kDEuLXpmc",
        "outputId": "5d89dc3b-9d19-4180-e0c6-0368b755dc38"
      },
      "execution_count": 2,
      "outputs": [
        {
          "output_type": "stream",
          "name": "stdout",
          "text": [
            "| No.   | Nama Barang   | Jumlah Barang   | Harga Satuan   | Jumlah Harga   |\n",
            "|-------|---------------|-----------------|----------------|----------------|\n",
            "\n",
            "Total harga yang harus dibayar adalah Rp.0\n",
            "\n",
            "\n",
            "Menu Utama\n",
            "|   No. | Opsi               |\n",
            "|-------|--------------------|\n",
            "|     0 | Check Keranjang    |\n",
            "|     1 | Tambah Item        |\n",
            "|     2 | Update Nama Item   |\n",
            "|     3 | Update Jumlah Item |\n",
            "|     4 | Update Harga Item  |\n",
            "|     5 | Hapus Item         |\n",
            "|     6 | Bayar dan Checkout |\n",
            "|     7 | Batal Belanja      |\n",
            "\n",
            "Pilih opsi: 7\n",
            "anda yakin ingin Batal Beli? (y=ya, t=tidak): y\n",
            "keranjang telah dikosongkan\n"
          ]
        }
      ]
    },
    {
      "cell_type": "markdown",
      "source": [
        "## add_items()"
      ],
      "metadata": {
        "id": "h1biIjqUps4k"
      }
    },
    {
      "cell_type": "code",
      "source": [
        "# inisialisasi transaksi dengan instance\n",
        "transaksi_1 = Transaction()\n",
        "\n",
        "# menambah item\n",
        "transaksi_1.add_items(['kompor', 2, 100_000])\n",
        "transaksi_1.add_items(['mie', 5, 3_000])\n",
        "transaksi_1.add_items(['tempe', 3, 5_000])\n",
        "\n",
        "# menampilkan pesanan\n",
        "transaksi_1.check_order()\n",
        "\n",
        "# menampilkan output test case\n",
        "# {'nama_item': [jumlah, harga]}\n",
        "transaksi_1.test_case_output(transaksi_1.keranjang)"
      ],
      "metadata": {
        "colab": {
          "base_uri": "https://localhost:8080/"
        },
        "id": "4tqrjH2Wcui6",
        "outputId": "0ea9cb32-4aa3-4b48-cd55-1f63401f3e7b"
      },
      "execution_count": 3,
      "outputs": [
        {
          "output_type": "stream",
          "name": "stdout",
          "text": [
            "|   No. | Nama Barang   |   Jumlah Barang |   Harga Satuan |   Jumlah Harga |\n",
            "|-------|---------------|-----------------|----------------|----------------|\n",
            "|     1 | kompor        |               2 |         100000 |         200000 |\n",
            "\n",
            "Total harga yang harus dibayar adalah Rp.200,000\n",
            "Barang yang dibeli: \n",
            "{'kompor': [2, 100000]}\n",
            "\n",
            "\n",
            "\n",
            "|   No. | Nama Barang   |   Jumlah Barang |   Harga Satuan |   Jumlah Harga |\n",
            "|-------|---------------|-----------------|----------------|----------------|\n",
            "|     1 | kompor        |               2 |         100000 |         200000 |\n",
            "|     2 | mie           |               5 |           3000 |          15000 |\n",
            "Selamat! Anda mendapatkan diskon sebesar 5%\n",
            "\n",
            "Total harga yang harus dibayar adalah Rp.204,250\n",
            "Barang yang dibeli: \n",
            "{'kompor': [2, 100000], 'mie': [5, 3000]}\n",
            "\n",
            "\n",
            "\n",
            "|   No. | Nama Barang   |   Jumlah Barang |   Harga Satuan |   Jumlah Harga |\n",
            "|-------|---------------|-----------------|----------------|----------------|\n",
            "|     1 | kompor        |               2 |         100000 |         200000 |\n",
            "|     2 | mie           |               5 |           3000 |          15000 |\n",
            "|     3 | tempe         |               3 |           5000 |          15000 |\n",
            "Selamat! Anda mendapatkan diskon sebesar 5%\n",
            "\n",
            "Total harga yang harus dibayar adalah Rp.218,500\n",
            "Barang yang dibeli: \n",
            "{'kompor': [2, 100000], 'mie': [5, 3000], 'tempe': [3, 5000]}\n",
            "\n",
            "\n",
            "\n",
            "|   No. | Nama Barang   |   Jumlah Barang |   Harga Satuan |   Jumlah Harga |\n",
            "|-------|---------------|-----------------|----------------|----------------|\n",
            "|     1 | kompor        |               2 |         100000 |         200000 |\n",
            "|     2 | mie           |               5 |           3000 |          15000 |\n",
            "|     3 | tempe         |               3 |           5000 |          15000 |\n",
            "Selamat! Anda mendapatkan diskon sebesar 5%\n",
            "\n",
            "Total harga yang harus dibayar adalah Rp.218,500\n",
            "Barang yang dibeli: \n",
            "{'kompor': [2, 100000], 'mie': [5, 3000], 'tempe': [3, 5000]}\n",
            "\n",
            "\n",
            "\n"
          ]
        }
      ]
    },
    {
      "cell_type": "markdown",
      "source": [
        "## update_item_name() | update_item_price() | update_item_qty()"
      ],
      "metadata": {
        "id": "SeeU4xtKqfr1"
      }
    },
    {
      "cell_type": "code",
      "source": [
        "# inisialisasi transaksi dengan instance baru\n",
        "transaksi_2 = Transaction()\n",
        "\n",
        "# menambah item\n",
        "transaksi_2.add_items(['kompor', 2, 100_000])\n",
        "transaksi_2.add_items(['mie', 5, 3_000])\n",
        "transaksi_2.add_items(['tempe', 3, 5_000])\n",
        "\n",
        "# mengubah nama item\n",
        "transaksi_2.update_item_name(id_item=3, update_nama='tahu')\n",
        "\n",
        "# mengubah harga item\n",
        "transaksi_2.update_item_price(id_item=1, update_harga=150_000)\n",
        "\n",
        "# mengubah jumlah item\n",
        "transaksi_2.update_item_qty(id_item=2, update_jumlah=10)\n",
        "\n",
        "# menampilkan output test case\n",
        "# {'nama_item': [jumlah, harga]}\n",
        "transaksi_2.test_case_output(transaksi_2.keranjang)"
      ],
      "metadata": {
        "colab": {
          "base_uri": "https://localhost:8080/"
        },
        "id": "k5WF5eEdqfYh",
        "outputId": "f0261224-8207-4740-88ce-3c218ef3ae35"
      },
      "execution_count": 4,
      "outputs": [
        {
          "output_type": "stream",
          "name": "stdout",
          "text": [
            "|   No. | Nama Barang   |   Jumlah Barang |   Harga Satuan |   Jumlah Harga |\n",
            "|-------|---------------|-----------------|----------------|----------------|\n",
            "|     1 | kompor        |               2 |         100000 |         200000 |\n",
            "\n",
            "Total harga yang harus dibayar adalah Rp.200,000\n",
            "Barang yang dibeli: \n",
            "{'kompor': [2, 100000]}\n",
            "\n",
            "\n",
            "\n",
            "|   No. | Nama Barang   |   Jumlah Barang |   Harga Satuan |   Jumlah Harga |\n",
            "|-------|---------------|-----------------|----------------|----------------|\n",
            "|     1 | kompor        |               2 |         100000 |         200000 |\n",
            "|     2 | mie           |               5 |           3000 |          15000 |\n",
            "Selamat! Anda mendapatkan diskon sebesar 5%\n",
            "\n",
            "Total harga yang harus dibayar adalah Rp.204,250\n",
            "Barang yang dibeli: \n",
            "{'kompor': [2, 100000], 'mie': [5, 3000]}\n",
            "\n",
            "\n",
            "\n",
            "|   No. | Nama Barang   |   Jumlah Barang |   Harga Satuan |   Jumlah Harga |\n",
            "|-------|---------------|-----------------|----------------|----------------|\n",
            "|     1 | kompor        |               2 |         100000 |         200000 |\n",
            "|     2 | mie           |               5 |           3000 |          15000 |\n",
            "|     3 | tempe         |               3 |           5000 |          15000 |\n",
            "Selamat! Anda mendapatkan diskon sebesar 5%\n",
            "\n",
            "Total harga yang harus dibayar adalah Rp.218,500\n",
            "Barang yang dibeli: \n",
            "{'kompor': [2, 100000], 'mie': [5, 3000], 'tempe': [3, 5000]}\n",
            "\n",
            "\n",
            "\n",
            "|   No. | Nama Barang   |   Jumlah Barang |   Harga Satuan |   Jumlah Harga |\n",
            "|-------|---------------|-----------------|----------------|----------------|\n",
            "|     1 | kompor        |               2 |         100000 |         200000 |\n",
            "|     2 | mie           |               5 |           3000 |          15000 |\n",
            "|     3 | tahu          |               3 |           5000 |          15000 |\n",
            "Selamat! Anda mendapatkan diskon sebesar 5%\n",
            "\n",
            "Total harga yang harus dibayar adalah Rp.218,500\n",
            "Barang yang dibeli: \n",
            "{'kompor': [2, 100000], 'mie': [5, 3000], 'tahu': [3, 5000]}\n",
            "\n",
            "\n",
            "\n",
            "|   No. | Nama Barang   |   Jumlah Barang |   Harga Satuan |   Jumlah Harga |\n",
            "|-------|---------------|-----------------|----------------|----------------|\n",
            "|     1 | kompor        |               2 |         150000 |         300000 |\n",
            "|     2 | mie           |               5 |           3000 |          15000 |\n",
            "|     3 | tahu          |               3 |           5000 |          15000 |\n",
            "Selamat! Anda mendapatkan diskon sebesar 8%\n",
            "\n",
            "Total harga yang harus dibayar adalah Rp.303,600\n",
            "Barang yang dibeli: \n",
            "{'kompor': [2, 150000], 'mie': [5, 3000], 'tahu': [3, 5000]}\n",
            "\n",
            "\n",
            "\n",
            "|   No. | Nama Barang   |   Jumlah Barang |   Harga Satuan |   Jumlah Harga |\n",
            "|-------|---------------|-----------------|----------------|----------------|\n",
            "|     1 | kompor        |               2 |         150000 |         300000 |\n",
            "|     2 | mie           |              10 |           3000 |          30000 |\n",
            "|     3 | tahu          |               3 |           5000 |          15000 |\n",
            "Selamat! Anda mendapatkan diskon sebesar 8%\n",
            "\n",
            "Total harga yang harus dibayar adalah Rp.317,400\n",
            "Barang yang dibeli: \n",
            "{'kompor': [2, 150000], 'mie': [10, 3000], 'tahu': [3, 5000]}\n",
            "\n",
            "\n",
            "\n",
            "Barang yang dibeli: \n",
            "{'kompor': [2, 150000], 'mie': [10, 3000], 'tahu': [3, 5000]}\n",
            "\n",
            "\n",
            "\n"
          ]
        }
      ]
    },
    {
      "cell_type": "markdown",
      "source": [
        "## delete_item()"
      ],
      "metadata": {
        "id": "2nLCedyvp2fV"
      }
    },
    {
      "cell_type": "code",
      "source": [
        "# inisialisasi transaksi dengan instance baru\n",
        "transaksi_3 = Transaction()\n",
        "\n",
        "# menambah item\n",
        "transaksi_3.add_items(['kompor', 2, 100_000])\n",
        "transaksi_3.add_items(['mie', 5, 3_000])\n",
        "transaksi_3.add_items(['tempe', 3, 5_000])\n",
        "\n",
        "# menghapus item\n",
        "transaksi_3.delete_item(2)\n",
        "\n",
        "# menampilkan output test case\n",
        "# {'nama_item': [jumlah, harga]}\n",
        "transaksi_3.test_case_output(transaksi_3.keranjang)"
      ],
      "metadata": {
        "colab": {
          "base_uri": "https://localhost:8080/"
        },
        "id": "nO0FIwC0p1eu",
        "outputId": "6683b4da-128a-4760-c6ed-5d17adcf6ce1"
      },
      "execution_count": 5,
      "outputs": [
        {
          "output_type": "stream",
          "name": "stdout",
          "text": [
            "|   No. | Nama Barang   |   Jumlah Barang |   Harga Satuan |   Jumlah Harga |\n",
            "|-------|---------------|-----------------|----------------|----------------|\n",
            "|     1 | kompor        |               2 |         100000 |         200000 |\n",
            "\n",
            "Total harga yang harus dibayar adalah Rp.200,000\n",
            "Barang yang dibeli: \n",
            "{'kompor': [2, 100000]}\n",
            "\n",
            "\n",
            "\n",
            "|   No. | Nama Barang   |   Jumlah Barang |   Harga Satuan |   Jumlah Harga |\n",
            "|-------|---------------|-----------------|----------------|----------------|\n",
            "|     1 | kompor        |               2 |         100000 |         200000 |\n",
            "|     2 | mie           |               5 |           3000 |          15000 |\n",
            "Selamat! Anda mendapatkan diskon sebesar 5%\n",
            "\n",
            "Total harga yang harus dibayar adalah Rp.204,250\n",
            "Barang yang dibeli: \n",
            "{'kompor': [2, 100000], 'mie': [5, 3000]}\n",
            "\n",
            "\n",
            "\n",
            "|   No. | Nama Barang   |   Jumlah Barang |   Harga Satuan |   Jumlah Harga |\n",
            "|-------|---------------|-----------------|----------------|----------------|\n",
            "|     1 | kompor        |               2 |         100000 |         200000 |\n",
            "|     2 | mie           |               5 |           3000 |          15000 |\n",
            "|     3 | tempe         |               3 |           5000 |          15000 |\n",
            "Selamat! Anda mendapatkan diskon sebesar 5%\n",
            "\n",
            "Total harga yang harus dibayar adalah Rp.218,500\n",
            "Barang yang dibeli: \n",
            "{'kompor': [2, 100000], 'mie': [5, 3000], 'tempe': [3, 5000]}\n",
            "\n",
            "\n",
            "\n",
            "|   No. | Nama Barang   |   Jumlah Barang |   Harga Satuan |   Jumlah Harga |\n",
            "|-------|---------------|-----------------|----------------|----------------|\n",
            "|     1 | kompor        |               2 |         100000 |         200000 |\n",
            "|     3 | tempe         |               3 |           5000 |          15000 |\n",
            "Selamat! Anda mendapatkan diskon sebesar 5%\n",
            "\n",
            "Total harga yang harus dibayar adalah Rp.204,250\n",
            "Barang yang dibeli: \n",
            "{'kompor': [2, 100000], 'tempe': [3, 5000]}\n",
            "\n",
            "\n",
            "\n",
            "Barang yang dibeli: \n",
            "{'kompor': [2, 100000], 'tempe': [3, 5000]}\n",
            "\n",
            "\n",
            "\n"
          ]
        }
      ]
    },
    {
      "cell_type": "markdown",
      "source": [
        "## check_order()"
      ],
      "metadata": {
        "id": "pbdjaFDPxg7U"
      }
    },
    {
      "cell_type": "code",
      "source": [
        "# inisialisasi transaksi dengan instance baru\n",
        "transaksi_4 = Transaction()\n",
        "\n",
        "# menambah item\n",
        "transaksi_4.add_items(['kompor', 2, 100_000])\n",
        "transaksi_4.add_items(['mie', 5, 3_000])\n",
        "transaksi_4.add_items(['tempe', 3, 5_000])\n",
        "\n",
        "# menghapus item\n",
        "print(\"Dibawah ini output check_order\")\n",
        "transaksi_4.check_order()\n",
        "\n",
        "# menampilkan output test case\n",
        "# {'nama_item': [jumlah, harga]}\n",
        "transaksi_4.test_case_output(transaksi_4.keranjang)"
      ],
      "metadata": {
        "colab": {
          "base_uri": "https://localhost:8080/"
        },
        "id": "n8Og5w5kxsKG",
        "outputId": "f489c921-9f76-4041-9255-51f790d8d928"
      },
      "execution_count": 6,
      "outputs": [
        {
          "output_type": "stream",
          "name": "stdout",
          "text": [
            "|   No. | Nama Barang   |   Jumlah Barang |   Harga Satuan |   Jumlah Harga |\n",
            "|-------|---------------|-----------------|----------------|----------------|\n",
            "|     1 | kompor        |               2 |         100000 |         200000 |\n",
            "\n",
            "Total harga yang harus dibayar adalah Rp.200,000\n",
            "Barang yang dibeli: \n",
            "{'kompor': [2, 100000]}\n",
            "\n",
            "\n",
            "\n",
            "|   No. | Nama Barang   |   Jumlah Barang |   Harga Satuan |   Jumlah Harga |\n",
            "|-------|---------------|-----------------|----------------|----------------|\n",
            "|     1 | kompor        |               2 |         100000 |         200000 |\n",
            "|     2 | mie           |               5 |           3000 |          15000 |\n",
            "Selamat! Anda mendapatkan diskon sebesar 5%\n",
            "\n",
            "Total harga yang harus dibayar adalah Rp.204,250\n",
            "Barang yang dibeli: \n",
            "{'kompor': [2, 100000], 'mie': [5, 3000]}\n",
            "\n",
            "\n",
            "\n",
            "|   No. | Nama Barang   |   Jumlah Barang |   Harga Satuan |   Jumlah Harga |\n",
            "|-------|---------------|-----------------|----------------|----------------|\n",
            "|     1 | kompor        |               2 |         100000 |         200000 |\n",
            "|     2 | mie           |               5 |           3000 |          15000 |\n",
            "|     3 | tempe         |               3 |           5000 |          15000 |\n",
            "Selamat! Anda mendapatkan diskon sebesar 5%\n",
            "\n",
            "Total harga yang harus dibayar adalah Rp.218,500\n",
            "Barang yang dibeli: \n",
            "{'kompor': [2, 100000], 'mie': [5, 3000], 'tempe': [3, 5000]}\n",
            "\n",
            "\n",
            "\n",
            "Dibawah ini output check_order\n",
            "|   No. | Nama Barang   |   Jumlah Barang |   Harga Satuan |   Jumlah Harga |\n",
            "|-------|---------------|-----------------|----------------|----------------|\n",
            "|     1 | kompor        |               2 |         100000 |         200000 |\n",
            "|     2 | mie           |               5 |           3000 |          15000 |\n",
            "|     3 | tempe         |               3 |           5000 |          15000 |\n",
            "Selamat! Anda mendapatkan diskon sebesar 5%\n",
            "\n",
            "Total harga yang harus dibayar adalah Rp.218,500\n",
            "Barang yang dibeli: \n",
            "{'kompor': [2, 100000], 'mie': [5, 3000], 'tempe': [3, 5000]}\n",
            "\n",
            "\n",
            "\n"
          ]
        }
      ]
    },
    {
      "cell_type": "code",
      "source": [
        "# inisialisasi transaksi dengan instance baru\n",
        "transaksi_5 = Transaction()\n",
        "\n",
        "# menambah item\n",
        "transaksi_5.add_items(['kompor', 2, 100_000])\n",
        "transaksi_5.add_items(['mie', 5, \"ayam\"])\n",
        "transaksi_5.add_items(['tempe', 3, 5_000])\n",
        "\n",
        "# menghapus item\n",
        "print(\"Dibawah ini output check_order\")\n",
        "transaksi_5.check_order()\n",
        "\n",
        "# menampilkan output test case\n",
        "# {'nama_item': [jumlah, harga]}\n",
        "transaksi_5.test_case_output(transaksi_5.keranjang)"
      ],
      "metadata": {
        "colab": {
          "base_uri": "https://localhost:8080/"
        },
        "id": "DONB33FfyTDV",
        "outputId": "59283e69-357a-4e05-d159-9f78141d9757"
      },
      "execution_count": 7,
      "outputs": [
        {
          "output_type": "stream",
          "name": "stdout",
          "text": [
            "|   No. | Nama Barang   |   Jumlah Barang |   Harga Satuan |   Jumlah Harga |\n",
            "|-------|---------------|-----------------|----------------|----------------|\n",
            "|     1 | kompor        |               2 |         100000 |         200000 |\n",
            "\n",
            "Total harga yang harus dibayar adalah Rp.200,000\n",
            "Barang yang dibeli: \n",
            "{'kompor': [2, 100000]}\n",
            "\n",
            "\n",
            "\n",
            "|   No. | Nama Barang   |   Jumlah Barang | Harga Satuan   | Jumlah Harga         |\n",
            "|-------|---------------|-----------------|----------------|----------------------|\n",
            "|     1 | kompor        |               2 | 100000         | 200000               |\n",
            "|     2 | mie           |               5 | ayam           | ayamayamayamayamayam |\n",
            "Barang ID - 2: Harga bukan angka\n",
            "PESANAN TIDAK SESUAI, Silahkan di cek kembali\n",
            "Barang yang dibeli: \n",
            "{'kompor': [2, 100000], 'mie': [5, 'ayam']}\n",
            "\n",
            "\n",
            "\n",
            "|   No. | Nama Barang   |   Jumlah Barang | Harga Satuan   | Jumlah Harga         |\n",
            "|-------|---------------|-----------------|----------------|----------------------|\n",
            "|     1 | kompor        |               2 | 100000         | 200000               |\n",
            "|     2 | mie           |               5 | ayam           | ayamayamayamayamayam |\n",
            "|     3 | tempe         |               3 | 5000           | 15000                |\n",
            "Barang ID - 2: Harga bukan angka\n",
            "PESANAN TIDAK SESUAI, Silahkan di cek kembali\n",
            "Barang yang dibeli: \n",
            "{'kompor': [2, 100000], 'mie': [5, 'ayam'], 'tempe': [3, 5000]}\n",
            "\n",
            "\n",
            "\n",
            "Dibawah ini output check_order\n",
            "|   No. | Nama Barang   |   Jumlah Barang | Harga Satuan   | Jumlah Harga         |\n",
            "|-------|---------------|-----------------|----------------|----------------------|\n",
            "|     1 | kompor        |               2 | 100000         | 200000               |\n",
            "|     2 | mie           |               5 | ayam           | ayamayamayamayamayam |\n",
            "|     3 | tempe         |               3 | 5000           | 15000                |\n",
            "Barang ID - 2: Harga bukan angka\n",
            "PESANAN TIDAK SESUAI, Silahkan di cek kembali\n",
            "Barang yang dibeli: \n",
            "{'kompor': [2, 100000], 'mie': [5, 'ayam'], 'tempe': [3, 5000]}\n",
            "\n",
            "\n",
            "\n"
          ]
        }
      ]
    },
    {
      "cell_type": "markdown",
      "source": [
        "## total_price()"
      ],
      "metadata": {
        "id": "oZvAnXlzxpDP"
      }
    },
    {
      "cell_type": "code",
      "source": [
        "# inisialisasi transaksi dengan instance\n",
        "transaksi_6 = Transaction()\n",
        "\n",
        "# menambah item\n",
        "transaksi_6.add_items(['kompor', 2, 100_000])\n",
        "transaksi_6.add_items(['mie', 5, 3_000])\n",
        "transaksi_6.add_items(['tempe', 3, 5_000])\n",
        "\n",
        "# menampilkan output test case\n",
        "# {'nama_item': [jumlah, harga]}\n",
        "transaksi_6.test_case_output(transaksi_6.keranjang)\n",
        "\n",
        "# hitung total belanja (termasuk diskon)\n",
        "transaksi_6.total_price()"
      ],
      "metadata": {
        "colab": {
          "base_uri": "https://localhost:8080/"
        },
        "id": "UJd_FfK9xoVZ",
        "outputId": "e44179b6-52b2-4e4e-cbfa-bc45f4250360"
      },
      "execution_count": 8,
      "outputs": [
        {
          "output_type": "stream",
          "name": "stdout",
          "text": [
            "|   No. | Nama Barang   |   Jumlah Barang |   Harga Satuan |   Jumlah Harga |\n",
            "|-------|---------------|-----------------|----------------|----------------|\n",
            "|     1 | kompor        |               2 |         100000 |         200000 |\n",
            "\n",
            "Total harga yang harus dibayar adalah Rp.200,000\n",
            "Barang yang dibeli: \n",
            "{'kompor': [2, 100000]}\n",
            "\n",
            "\n",
            "\n",
            "|   No. | Nama Barang   |   Jumlah Barang |   Harga Satuan |   Jumlah Harga |\n",
            "|-------|---------------|-----------------|----------------|----------------|\n",
            "|     1 | kompor        |               2 |         100000 |         200000 |\n",
            "|     2 | mie           |               5 |           3000 |          15000 |\n",
            "Selamat! Anda mendapatkan diskon sebesar 5%\n",
            "\n",
            "Total harga yang harus dibayar adalah Rp.204,250\n",
            "Barang yang dibeli: \n",
            "{'kompor': [2, 100000], 'mie': [5, 3000]}\n",
            "\n",
            "\n",
            "\n",
            "|   No. | Nama Barang   |   Jumlah Barang |   Harga Satuan |   Jumlah Harga |\n",
            "|-------|---------------|-----------------|----------------|----------------|\n",
            "|     1 | kompor        |               2 |         100000 |         200000 |\n",
            "|     2 | mie           |               5 |           3000 |          15000 |\n",
            "|     3 | tempe         |               3 |           5000 |          15000 |\n",
            "Selamat! Anda mendapatkan diskon sebesar 5%\n",
            "\n",
            "Total harga yang harus dibayar adalah Rp.218,500\n",
            "Barang yang dibeli: \n",
            "{'kompor': [2, 100000], 'mie': [5, 3000], 'tempe': [3, 5000]}\n",
            "\n",
            "\n",
            "\n",
            "Barang yang dibeli: \n",
            "{'kompor': [2, 100000], 'mie': [5, 3000], 'tempe': [3, 5000]}\n",
            "\n",
            "\n",
            "\n",
            "Selamat! Anda mendapatkan diskon sebesar 5%\n",
            "\n",
            "Total harga yang harus dibayar adalah Rp.218,500\n"
          ]
        }
      ]
    },
    {
      "cell_type": "markdown",
      "source": [
        "## reset_transaction()"
      ],
      "metadata": {
        "id": "HzngDHm6xbgA"
      }
    },
    {
      "cell_type": "code",
      "source": [
        "# inisialisasi transaksi dengan instance baru\n",
        "transaksi_7 = Transaction()\n",
        "\n",
        "# menambah item\n",
        "transaksi_7.add_items(['kompor', 2, 100_000])\n",
        "transaksi_7.add_items(['mie', 5, 3_000])\n",
        "transaksi_7.add_items(['tempe', 3, 5_000])\n",
        "\n",
        "# menampilkan output test case\n",
        "# {'nama_item': [jumlah, harga]}\n",
        "transaksi_7.test_case_output(transaksi_7.keranjang)\n",
        "\n",
        "# reset transaksi\n",
        "transaksi_7.reset_transaction()\n",
        "\n",
        "# cek pesanan\n",
        "transaksi_7.check_order()"
      ],
      "metadata": {
        "colab": {
          "base_uri": "https://localhost:8080/"
        },
        "id": "2C6cCSkUcoaV",
        "outputId": "7efa8ee6-3b8f-42d2-eddc-33572c6681d3"
      },
      "execution_count": 9,
      "outputs": [
        {
          "output_type": "stream",
          "name": "stdout",
          "text": [
            "|   No. | Nama Barang   |   Jumlah Barang |   Harga Satuan |   Jumlah Harga |\n",
            "|-------|---------------|-----------------|----------------|----------------|\n",
            "|     1 | kompor        |               2 |         100000 |         200000 |\n",
            "\n",
            "Total harga yang harus dibayar adalah Rp.200,000\n",
            "Barang yang dibeli: \n",
            "{'kompor': [2, 100000]}\n",
            "\n",
            "\n",
            "\n",
            "|   No. | Nama Barang   |   Jumlah Barang |   Harga Satuan |   Jumlah Harga |\n",
            "|-------|---------------|-----------------|----------------|----------------|\n",
            "|     1 | kompor        |               2 |         100000 |         200000 |\n",
            "|     2 | mie           |               5 |           3000 |          15000 |\n",
            "Selamat! Anda mendapatkan diskon sebesar 5%\n",
            "\n",
            "Total harga yang harus dibayar adalah Rp.204,250\n",
            "Barang yang dibeli: \n",
            "{'kompor': [2, 100000], 'mie': [5, 3000]}\n",
            "\n",
            "\n",
            "\n",
            "|   No. | Nama Barang   |   Jumlah Barang |   Harga Satuan |   Jumlah Harga |\n",
            "|-------|---------------|-----------------|----------------|----------------|\n",
            "|     1 | kompor        |               2 |         100000 |         200000 |\n",
            "|     2 | mie           |               5 |           3000 |          15000 |\n",
            "|     3 | tempe         |               3 |           5000 |          15000 |\n",
            "Selamat! Anda mendapatkan diskon sebesar 5%\n",
            "\n",
            "Total harga yang harus dibayar adalah Rp.218,500\n",
            "Barang yang dibeli: \n",
            "{'kompor': [2, 100000], 'mie': [5, 3000], 'tempe': [3, 5000]}\n",
            "\n",
            "\n",
            "\n",
            "Barang yang dibeli: \n",
            "{'kompor': [2, 100000], 'mie': [5, 3000], 'tempe': [3, 5000]}\n",
            "\n",
            "\n",
            "\n",
            "keranjang telah dikosongkan\n",
            "| No.   | Nama Barang   | Jumlah Barang   | Harga Satuan   | Jumlah Harga   |\n",
            "|-------|---------------|-----------------|----------------|----------------|\n",
            "\n",
            "Total harga yang harus dibayar adalah Rp.0\n"
          ]
        }
      ]
    }
  ]
}